{
 "cells": [
  {
   "cell_type": "code",
   "execution_count": 1,
   "id": "0f035a7a",
   "metadata": {},
   "outputs": [],
   "source": [
    "import fuzzytext"
   ]
  },
  {
   "cell_type": "markdown",
   "id": "290b47ae",
   "metadata": {},
   "source": [
    "**Download N-grams model**"
   ]
  },
  {
   "cell_type": "code",
   "execution_count": 2,
   "id": "7d60e770",
   "metadata": {},
   "outputs": [],
   "source": [
    "! mkdir -p models/ngrams/ru_rent_estate_ads\n",
    "! wget --quiet --no-clobber -P models/ngrams/ru_rent_estate_ads https://github.com/ralan/fuzzytext_models/raw/master/ngrams/ru_rent_estate_ads/2grams.pkl\n",
    "! wget --quiet --no-clobber -P models/ngrams/ru_rent_estate_ads https://github.com/ralan/fuzzytext_models/raw/master/ngrams/ru_rent_estate_ads/3grams.pkl"
   ]
  },
  {
   "cell_type": "markdown",
   "id": "95be4df3",
   "metadata": {},
   "source": [
    "**Setup text from which we should extract the number of rooms**"
   ]
  },
  {
   "cell_type": "code",
   "execution_count": 3,
   "id": "080b7b23",
   "metadata": {},
   "outputs": [],
   "source": [
    "text = \"В  аренду предлагается 1к квартира, в которой есть 2к холодильник\""
   ]
  },
  {
   "cell_type": "markdown",
   "id": "b52d93ae",
   "metadata": {},
   "source": [
    "**Setup reference context where rooms number value is probably located**"
   ]
  },
  {
   "cell_type": "code",
   "execution_count": 4,
   "id": "0f90617f",
   "metadata": {},
   "outputs": [],
   "source": [
    "reference_context=\"Сдается * квартира\""
   ]
  },
  {
   "cell_type": "markdown",
   "id": "1a485ef4",
   "metadata": {},
   "source": [
    "**Setup reference values for rooms number**"
   ]
  },
  {
   "cell_type": "code",
   "execution_count": 5,
   "id": "8c931484",
   "metadata": {},
   "outputs": [],
   "source": [
    "reference_values=[\n",
    "    {\n",
    "        \"value\": \"однокомнатная\",\n",
    "        \"alternatives\": [\"1-комнатная\"],\n",
    "    },\n",
    "    {\n",
    "        \"value\": \"двухкомнатная\",\n",
    "        \"alternatives\": [\"2-комнатная\"],\n",
    "    },\n",
    "    {\n",
    "        \"value\": \"трехкомнатная\",\n",
    "        \"alternatives\": [\"3-комнатная\"],\n",
    "    },\n",
    "    {\n",
    "        \"value\": \"четырехкомнатная\",\n",
    "        \"alternatives\": [\"4-комнатная\"],\n",
    "    },\n",
    "    {\n",
    "        \"value\": \"пятикомнатная\",\n",
    "        \"alternatives\": [\"5-комнатная\"],\n",
    "    },\n",
    "]"
   ]
  },
  {
   "cell_type": "markdown",
   "id": "360fbe1a",
   "metadata": {},
   "source": [
    "**Run extractor using Transformers (RoBERTa) language model**"
   ]
  },
  {
   "cell_type": "code",
   "execution_count": 6,
   "id": "5c1c8c34",
   "metadata": {},
   "outputs": [],
   "source": [
    "language_model = fuzzytext.LanguageModel(\n",
    "    model_type=\"transformers\",\n",
    "    model_path=\"rafagudinov/ru_rent_estate_ads\"\n",
    ")"
   ]
  },
  {
   "cell_type": "code",
   "execution_count": 7,
   "id": "83a70bf7",
   "metadata": {},
   "outputs": [
    {
     "name": "stdout",
     "output_type": "stream",
     "text": [
      "В  аренду предлагается 1к квартира, в которой есть 2к холодильник\n"
     ]
    },
    {
     "data": {
      "text/plain": [
       "[{'pos': 3,\n",
       "  'value': '1к',\n",
       "  'reference_value': 'однокомнатная',\n",
       "  'score': 0.88973923107852},\n",
       " {'pos': 8,\n",
       "  'value': '2к',\n",
       "  'reference_value': 'двухкомнатная',\n",
       "  'score': 0.004846687986063913}]"
      ]
     },
     "execution_count": 7,
     "metadata": {},
     "output_type": "execute_result"
    }
   ],
   "source": [
    "rooms_extractor = fuzzytext.Extractor(\n",
    "    language_model=language_model,\n",
    "    reference_context=reference_context,\n",
    "    reference_values=reference_values\n",
    ")\n",
    "\n",
    "print(text)\n",
    "rooms_extractor.extract(text, top_k=3)"
   ]
  },
  {
   "cell_type": "markdown",
   "id": "8ff4d700",
   "metadata": {},
   "source": [
    "**Run extractor using N-grams language model**"
   ]
  },
  {
   "cell_type": "code",
   "execution_count": 8,
   "id": "f293f38d",
   "metadata": {},
   "outputs": [],
   "source": [
    "language_model = fuzzytext.LanguageModel(\n",
    "    model_type=\"ngrams\",\n",
    "    model_path=\"models/ngrams/ru_rent_estate_ads\",\n",
    "    lowercase=True\n",
    ")"
   ]
  },
  {
   "cell_type": "code",
   "execution_count": 9,
   "id": "8dd37747",
   "metadata": {},
   "outputs": [
    {
     "name": "stdout",
     "output_type": "stream",
     "text": [
      "В  аренду предлагается 1к квартира, в которой есть 2к холодильник\n"
     ]
    },
    {
     "data": {
      "text/plain": [
       "[{'pos': 3,\n",
       "  'value': '1к',\n",
       "  'reference_value': 'однокомнатная',\n",
       "  'score': 0.8895140003260694},\n",
       " {'pos': 8,\n",
       "  'value': '2к',\n",
       "  'reference_value': 'двухкомнатная',\n",
       "  'score': 0.12294030556908897}]"
      ]
     },
     "execution_count": 9,
     "metadata": {},
     "output_type": "execute_result"
    }
   ],
   "source": [
    "rooms_extractor = fuzzytext.Extractor(\n",
    "    language_model=language_model,\n",
    "    reference_context=reference_context,\n",
    "    reference_values=reference_values\n",
    ")\n",
    "\n",
    "print(text)\n",
    "rooms_extractor.extract(text, top_k=3)"
   ]
  }
 ],
 "metadata": {
  "kernelspec": {
   "display_name": "Python 3",
   "language": "python",
   "name": "python3"
  },
  "language_info": {
   "codemirror_mode": {
    "name": "ipython",
    "version": 3
   },
   "file_extension": ".py",
   "mimetype": "text/x-python",
   "name": "python",
   "nbconvert_exporter": "python",
   "pygments_lexer": "ipython3",
   "version": "3.9.0"
  }
 },
 "nbformat": 4,
 "nbformat_minor": 5
}
